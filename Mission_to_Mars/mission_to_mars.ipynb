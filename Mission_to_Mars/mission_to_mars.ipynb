{
 "cells": [
  {
   "cell_type": "code",
   "execution_count": null,
   "metadata": {
    "collapsed": true
   },
   "outputs": [],
   "source": [
    "from bs4 import BeautifulSoup\n",
    "import pandas as pd\n",
    "import requests\n",
    "from splinter.browser import Browser\n",
    "import time"
   ]
  },
  {
   "cell_type": "code",
   "execution_count": null,
   "metadata": {
    "collapsed": true
   },
   "outputs": [],
   "source": [
    "browser = Browser('chrome', headless=True)"
   ]
  },
  {
   "cell_type": "code",
   "execution_count": null,
   "metadata": {
    "collapsed": true
   },
   "outputs": [],
   "source": [
    "# Scrape NASA Mars News Site and collect the latest News\n",
    "\n",
    "url = \"https://mars.nasa.gov/news/\"\n",
    "response = requests.get(url)\n",
    "\n",
    "time.sleep(1)"
   ]
  },
  {
   "cell_type": "code",
   "execution_count": null,
   "metadata": {},
   "outputs": [],
   "source": [
    "soup = BeautifulSoup(response.text,'html.parser')\n",
    "result = soup.find_all('div',class_='content_title')\n",
    "news_title= result[0].find('a').text\n",
    "result_p = soup.find_all('div',class_='image_and_description_container')\n",
    "news_p = result_p[0].find('div',class_='rollover_description_inner').text\n",
    "print(news_p)"
   ]
  },
  {
   "cell_type": "code",
   "execution_count": null,
   "metadata": {
    "collapsed": true
   },
   "outputs": [],
   "source": [
    "url = \"https://twitter.com/marswxreport?lang=en\"\n",
    "response = requests.get(url)\n",
    "soup = BeautifulSoup(response.text,'html.parser')"
   ]
  },
  {
   "cell_type": "code",
   "execution_count": null,
   "metadata": {
    "collapsed": true
   },
   "outputs": [],
   "source": [
    "result = soup.find_all('div',class_='js-tweet-text-container')[0]\n"
   ]
  },
  {
   "cell_type": "code",
   "execution_count": null,
   "metadata": {
    "collapsed": true
   },
   "outputs": [],
   "source": [
    "mars_weather = result.find('p').contents[0]\n"
   ]
  },
  {
   "cell_type": "code",
   "execution_count": null,
   "metadata": {
    "collapsed": true
   },
   "outputs": [],
   "source": [
    "url = \"https://space-facts.com/mars/\"\n",
    "response = requests.get(url)\n",
    "soup = BeautifulSoup(response.text,'html.parser')"
   ]
  },
  {
   "cell_type": "code",
   "execution_count": null,
   "metadata": {
    "collapsed": true
   },
   "outputs": [],
   "source": [
    "\n",
    "table = soup.find_all('table')\n",
    "df = pd.read_html(str(table))[0]\n",
    "\n",
    "df = df.rename(columns={0:'',1:'value'})\n",
    "df.set_index('', inplace=True)\n",
    "mars_fact_html = df.to_html()\n"
   ]
  },
  {
   "cell_type": "code",
   "execution_count": null,
   "metadata": {
    "collapsed": true
   },
   "outputs": [],
   "source": [
    "url = 'https://astrogeology.usgs.gov/search/results?q=hemisphere+enhanced&k1=target&v1=Mars'\n",
    "\n",
    "\n",
    "\n",
    "browser.visit(url)\n",
    "hemisphere_image_urls = []\n",
    "\n",
    "html = browser.html\n",
    "soup = BeautifulSoup(html,'html.parser')\n",
    "\n",
    "results = soup.find_all('div', class_='item')\n",
    "\n",
    "for result in results:\n",
    "        hemisphere = {}\n",
    "        newurl = 'https://astrogeology.usgs.gov'+ result.find('a')['href']\n",
    "        browser.visit(newurl)\n",
    "        new_html = browser.html\n",
    "        soup = BeautifulSoup(new_html,'html.parser')\n",
    "        sample = soup.find('div', class_='downloads')\n",
    "        hemisphere['img_url'] = sample.find('a')['href']\n",
    "        title = soup.find('h2',class_=\"title\").text\n",
    "        hemisphere['title'] = title.replace(' Enhanced','')\n",
    "        hemisphere_image_urls.append(hemisphere)\n",
    "      \n",
    "        time.sleep(1)\n"
   ]
  },
  {
   "cell_type": "code",
   "execution_count": null,
   "metadata": {
    "collapsed": true
   },
   "outputs": [],
   "source": [
    "#Use splinter to navigate the site and find the image url for the current Featured Mars Image \n",
    "\n",
    "#executable_path = {'executable_path':'/Users/jingc/chromedriver'}\n",
    "\n",
    "url = 'https://www.jpl.nasa.gov/spaceimages/?search=&category=Mars'\n",
    "\n",
    "#browser = Browser('chrome', **executable_path)\n",
    "#browser = Browser('chrome', headless=True)\n",
    "\n",
    "browser.visit(url)\n",
    "search_bar_xpath ='//*[@id=\"full_image\"]'\n",
    "search_button = browser.find_by_xpath(search_bar_xpath)[0]\n",
    "search_button.click()\n",
    "\n",
    "time.sleep(2)\n",
    "moreinfo_button = browser.find_link_by_partial_text('more info')\n",
    "moreinfo_button.click()\n",
    "time.sleep(2)\n",
    "response = browser.html\n",
    "featuredimg_soup = BeautifulSoup(response, 'html.parser')\n",
    "featured_img_url = 'https://www.jpl.nasa.gov'+featuredimg_soup.find('figure', class_='lede').a['href']\n",
    "\n",
    "browser.quit()"
   ]
  },
  {
   "cell_type": "code",
   "execution_count": null,
   "metadata": {},
   "outputs": [],
   "source": [
    "mars_dict = {'news_title':news_title,\n",
    "             'news_paragraph':news_p,\n",
    "             'current_weather':mars_weather,\n",
    "             'feartured_img':featured_img_url,\n",
    "             'mars_fact':mars_fact_html,\n",
    "             'hemisphere_images':hemisphere_image_urls\n",
    "            }\n",
    "print(mars_dict)"
   ]
  }
 ],
 "metadata": {
  "kernelspec": {
   "display_name": "Python [default]",
   "language": "python",
   "name": "python3"
  },
  "language_info": {
   "codemirror_mode": {
    "name": "ipython",
    "version": 3
   },
   "file_extension": ".py",
   "mimetype": "text/x-python",
   "name": "python",
   "nbconvert_exporter": "python",
   "pygments_lexer": "ipython3",
   "version": "3.6.3"
  }
 },
 "nbformat": 4,
 "nbformat_minor": 2
}
